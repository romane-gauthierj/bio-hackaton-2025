{
 "cells": [
  {
   "cell_type": "code",
   "execution_count": 6,
   "id": "96c0d171-d000-4eff-83bf-40f8391ed6a0",
   "metadata": {},
   "outputs": [
    {
     "name": "stderr",
     "output_type": "stream",
     "text": [
      "Using libcurl 7.68.0 with OpenSSL/1.1.1f\n",
      "\n",
      "Unzipping: /sharedFolder/Data/GSM4557327_555_1_cell.counts.matrices.rds.gz\n",
      "\n",
      "Unzipping: /sharedFolder/Data/GSM4557328_555_2_cell.counts.matrices.rds.gz\n",
      "\n",
      "Unzipping: /sharedFolder/Data/GSM4557329_556_cell.counts.matrices.rds.gz\n",
      "\n",
      "Unzipping: /sharedFolder/Data/GSM4557330_557_cell.counts.matrices.rds.gz\n",
      "\n",
      "Unzipping: /sharedFolder/Data/GSM4557331_558_cell.counts.matrices.rds.gz\n",
      "\n",
      "Unzipping: /sharedFolder/Data/GSM4557332_559_cell.counts.matrices.rds.gz\n",
      "\n",
      "Unzipping: /sharedFolder/Data/GSM4557333_561_cell.counts.matrices.rds.gz\n",
      "\n",
      "Unzipping: /sharedFolder/Data/GSM4557334_HIP002_cell.counts.matrices.rds.gz\n",
      "\n",
      "Unzipping: /sharedFolder/Data/GSM4557335_HIP015_cell.counts.matrices.rds.gz\n",
      "\n",
      "Unzipping: /sharedFolder/Data/GSM4557336_HIP023_cell.counts.matrices.rds.gz\n",
      "\n",
      "Unzipping: /sharedFolder/Data/GSM4557337_HIP043_cell.counts.matrices.rds.gz\n",
      "\n",
      "Unzipping: /sharedFolder/Data/GSM4557338_HIP044_cell.counts.matrices.rds.gz\n",
      "\n",
      "Unzipping: /sharedFolder/Data/GSM4557339_HIP045_cell.counts.matrices.rds.gz\n",
      "\n"
     ]
    }
   ],
   "source": [
    "# Load required packages\n",
    "if (!requireNamespace(\"curl\", quietly = TRUE)) install.packages(\"curl\")\n",
    "if (!requireNamespace(\"R.utils\", quietly = TRUE)) install.packages(\"R.utils\")\n",
    "\n",
    "library(curl)\n",
    "library(R.utils)\n",
    "\n",
    "# URL and destination\n",
    "ftp_tar <- \"https://ftp.ncbi.nlm.nih.gov/geo/series/GSE150nnn/GSE150728/suppl/GSE150728_RAW.tar\"\n",
    "dest_dir <- \"/sharedFolder/Data\"\n",
    "tar_file <- file.path(dest_dir, \"GSE150728_RAW.tar\")\n",
    "\n",
    "# Ensure directory exists\n",
    "dir.create(dest_dir, showWarnings = FALSE)\n",
    "\n",
    "# Download using curl with extended timeout\n",
    "curl::curl_download(url = ftp_tar, destfile = tar_file, mode = \"wb\", handle = new_handle(timeout = 300))\n",
    "\n",
    "# Extract the .tar archive\n",
    "untar(tar_file, exdir = dest_dir)\n",
    "\n",
    "# Unzip all .rds.gz files\n",
    "gz_files <- list.files(dest_dir, pattern = \"\\\\.gz$\", full.names = TRUE)\n",
    "for (f in gz_files) {\n",
    "  message(\"Unzipping: \", f)\n",
    "  gunzip(f, overwrite = TRUE, remove = TRUE)\n",
    "}\n",
    "\n",
    "# Optional cleanup\n",
    "unlink(tar_file)\n"
   ]
  },
  {
   "cell_type": "code",
   "execution_count": null,
   "id": "cbae1a56-51f6-4271-928a-deb4feb3488a",
   "metadata": {},
   "outputs": [],
   "source": []
  },
  {
   "cell_type": "code",
   "execution_count": null,
   "id": "6771a94e-3fa5-457c-8711-d2ac8082d6d6",
   "metadata": {},
   "outputs": [],
   "source": []
  }
 ],
 "metadata": {
  "kernelspec": {
   "display_name": "R",
   "language": "R",
   "name": "ir"
  },
  "language_info": {
   "codemirror_mode": "r",
   "file_extension": ".r",
   "mimetype": "text/x-r-source",
   "name": "R",
   "pygments_lexer": "r",
   "version": "4.2.0"
  }
 },
 "nbformat": 4,
 "nbformat_minor": 5
}
